{
 "cells": [
  {
   "cell_type": "markdown",
   "metadata": {},
   "source": [
    "# Tutorial: Visualization"
   ]
  },
  {
   "cell_type": "markdown",
   "metadata": {},
   "source": [
    "Author: Hideya Tanaka\n",
    "\n",
    "Reviewer: Tomoyuki Miyao\n",
    "\n",
    "---"
   ]
  },
  {
   "cell_type": "markdown",
   "metadata": {},
   "source": [
    "This tutorial demonstrates the visualization using the CSV files generated in `Tutorial 1` and `Tutorial 2`, employing the following module:\n",
    "\n",
    "- **viz_utils.py**\n",
    "\n",
    "\n",
    "---"
   ]
  },
  {
   "cell_type": "markdown",
   "metadata": {},
   "source": [
    "## Figure 5B"
   ]
  },
  {
   "cell_type": "code",
   "execution_count": null,
   "metadata": {},
   "outputs": [],
   "source": [
    "import os\n",
    "import sys\n",
    "\n",
    "fd = os.getcwd()\n",
    "parent_dir = os.path.dirname(fd)\n",
    "sys.path.append(parent_dir)\n",
    "\n",
    "font_size = 15\n",
    "\n",
    "from src.viz_utils import plot_scatter_with_regression\n",
    "\n",
    "dataset_file_path_input = f'{parent_dir}/data/output_data/morfeus_qo_centerC_zaxisO_xzplaneH(C).csv'\n"
   ]
  },
  {
   "cell_type": "code",
   "execution_count": null,
   "metadata": {},
   "outputs": [],
   "source": [
    "plot_scatter_with_regression(dataset_file_path_input, '%Vbur_exclude_H_center_C_2.5', '%Vbur(C,2.5Å,w/oH) (%)', 'conv_woH2O_10min', 'GC conv. (%)', '%Vbur(C,2.5Å,w/oH)-conv_woH2O_10min', f'{fd}/scatter_conv_woH2O.png', font_size = font_size)"
   ]
  },
  {
   "cell_type": "code",
   "execution_count": null,
   "metadata": {},
   "outputs": [],
   "source": [
    "plot_scatter_with_regression(dataset_file_path_input, '%Vbur_exclude_H_center_C_2.5', '%Vbur(C,2.5Å,w/oH) (%)', 'conv_wH2O_10min', 'GC conv. (%)', '%Vbur(C,2.5Å,w/oH)-conv_wH2O_10min', f'{fd}/scatter_conv_wH2O.png', font_size = font_size)"
   ]
  },
  {
   "cell_type": "markdown",
   "metadata": {},
   "source": [
    "## Figure 8A"
   ]
  },
  {
   "cell_type": "code",
   "execution_count": null,
   "metadata": {},
   "outputs": [],
   "source": [
    "from src.viz_utils import plot_metrics_line_chart\n",
    "\n",
    "x_axis_vals_list = [1.5, 2, 2.5, 3, 3.5, 4, 4.5, 5, 5.5, 6]\n",
    "feature_groups_list = [['%Vbur_exclude_H_center_C_1.5', '%Vbur_exclude_H_center_C_2', '%Vbur_exclude_H_center_C_2.5', '%Vbur_exclude_H_center_C_3', '%Vbur_exclude_H_center_C_3.5', '%Vbur_exclude_H_center_C_4', '%Vbur_exclude_H_center_C_4.5', '%Vbur_exclude_H_center_C_5', '%Vbur_exclude_H_center_C_5.5', '%Vbur_exclude_H_center_C_6'],\n",
    "                    ['%Vbur_exclude_H_center_O_1.5', '%Vbur_exclude_H_center_O_2', '%Vbur_exclude_H_center_O_2.5', '%Vbur_exclude_H_center_O_3', '%Vbur_exclude_H_center_O_3.5', '%Vbur_exclude_H_center_O_4', '%Vbur_exclude_H_center_O_4.5', '%Vbur_exclude_H_center_O_5', '%Vbur_exclude_H_center_O_5.5', '%Vbur_exclude_H_center_O_6'], \n",
    "                    ['%Vbur_exclude_H_center_H(O)_1.5', '%Vbur_exclude_H_center_H(O)_2', '%Vbur_exclude_H_center_H(O)_2.5', '%Vbur_exclude_H_center_H(O)_3', '%Vbur_exclude_H_center_H(O)_3.5', '%Vbur_exclude_H_center_H(O)_4', '%Vbur_exclude_H_center_H(O)_4.5', '%Vbur_exclude_H_center_H(O)_5', '%Vbur_exclude_H_center_H(O)_5.5', '%Vbur_exclude_H_center_H(O)_6'], \n",
    "                    ['%Vbur_exclude_H_center_H(C)_1.5_mean', '%Vbur_exclude_H_center_H(C)_2_mean', '%Vbur_exclude_H_center_H(C)_2.5_mean', '%Vbur_exclude_H_center_H(C)_3_mean', '%Vbur_exclude_H_center_H(C)_3.5_mean', '%Vbur_exclude_H_center_H(C)_4_mean', '%Vbur_exclude_H_center_H(C)_4.5_mean', '%Vbur_exclude_H_center_H(C)_5_mean', '%Vbur_exclude_H_center_H(C)_5.5_mean', '%Vbur_exclude_H_center_H(C)_6_mean'],\n",
    "                    ['%Vbur_exclude_H_quadrant_E_centerC_zaxisO_xzplaneH(C)_1.5', '%Vbur_exclude_H_quadrant_E_centerC_zaxisO_xzplaneH(C)_2', '%Vbur_exclude_H_quadrant_E_centerC_zaxisO_xzplaneH(C)_2.5', '%Vbur_exclude_H_quadrant_E_centerC_zaxisO_xzplaneH(C)_3', '%Vbur_exclude_H_quadrant_E_centerC_zaxisO_xzplaneH(C)_3.5', '%Vbur_exclude_H_quadrant_E_centerC_zaxisO_xzplaneH(C)_4', '%Vbur_exclude_H_quadrant_E_centerC_zaxisO_xzplaneH(C)_4.5', '%Vbur_exclude_H_quadrant_E_centerC_zaxisO_xzplaneH(C)_5', '%Vbur_exclude_H_quadrant_E_centerC_zaxisO_xzplaneH(C)_5.5', '%Vbur_exclude_H_quadrant_E_centerC_zaxisO_xzplaneH(C)_6'],\n",
    "                    ['%Vbur_exclude_H_quadrant_W_centerC_zaxisO_xzplaneH(C)_1.5', '%Vbur_exclude_H_quadrant_W_centerC_zaxisO_xzplaneH(C)_2', '%Vbur_exclude_H_quadrant_W_centerC_zaxisO_xzplaneH(C)_2.5', '%Vbur_exclude_H_quadrant_W_centerC_zaxisO_xzplaneH(C)_3', '%Vbur_exclude_H_quadrant_W_centerC_zaxisO_xzplaneH(C)_3.5', '%Vbur_exclude_H_quadrant_W_centerC_zaxisO_xzplaneH(C)_4', '%Vbur_exclude_H_quadrant_W_centerC_zaxisO_xzplaneH(C)_4.5', '%Vbur_exclude_H_quadrant_W_centerC_zaxisO_xzplaneH(C)_5', '%Vbur_exclude_H_quadrant_W_centerC_zaxisO_xzplaneH(C)_5.5', '%Vbur_exclude_H_quadrant_W_centerC_zaxisO_xzplaneH(C)_6']]\n",
    "legend_labels_list = ['center_C', 'center_O', 'center_H(O)', 'center_H(C)', 'quadrant_E', 'quadrant_W']\n",
    "distinct_markers_list = ['o', 's', '^', 'D', 'v', 'p']"
   ]
  },
  {
   "cell_type": "code",
   "execution_count": null,
   "metadata": {},
   "outputs": [],
   "source": [
    "dataset_file_path_input = f'{fd}/results_LR_LOOCV_woH2O_q2_AllDataset/results_LR_LOOCV_woH2O_q2_AllDataset_All_Features.csv'\n",
    "plot_metrics_line_chart(dataset_file_path_input, 'Feature', 'q2', 'Sphere radius (Å)', x_axis_vals_list, feature_groups_list, legend_labels_list, distinct_markers_list, 'line_chart_woH2O_q2_AllDataset', f'{fd}/line_chart_woH2O_q2_AllDataset.png', font_size = font_size)\n",
    "plot_metrics_line_chart(dataset_file_path_input, 'Feature', 'MAE', 'Sphere radius (Å)', x_axis_vals_list, feature_groups_list, legend_labels_list, distinct_markers_list, 'line_chart_woH2O_MAE_AllDataset', f'{fd}/line_chart_woH2O_MAE_AllDataset.png', font_size = font_size)"
   ]
  },
  {
   "cell_type": "code",
   "execution_count": null,
   "metadata": {},
   "outputs": [],
   "source": [
    "dataset_file_path_input = f'{fd}/results_LR_LOOCV_woH2O_q2_SecondaryDataset/results_LR_LOOCV_woH2O_q2_SecondaryDataset_All_Features.csv'\n",
    "plot_metrics_line_chart(dataset_file_path_input, 'Feature', 'q2', 'Sphere radius (Å)', x_axis_vals_list, feature_groups_list, legend_labels_list, distinct_markers_list, 'line_chart_woH2O_q2_SecondaryDataset', f'{fd}/line_chart_woH2O_q2_SecondaryDataset.png', font_size = font_size)\n",
    "plot_metrics_line_chart(dataset_file_path_input, 'Feature', 'MAE', 'Sphere radius (Å)', x_axis_vals_list, feature_groups_list, legend_labels_list, distinct_markers_list, 'line_chart_woH2O_MAE_SecondaryDataset', f'{fd}/line_chart_woH2O_MAE_SecondaryDataset.png', font_size = font_size)"
   ]
  },
  {
   "cell_type": "code",
   "execution_count": null,
   "metadata": {},
   "outputs": [],
   "source": [
    "dataset_file_path_input = f'{fd}/results_LR_LOOCV_wH2O_q2_AllDataset/results_LR_LOOCV_wH2O_q2_AllDataset_All_Features.csv'\n",
    "plot_metrics_line_chart(dataset_file_path_input, 'Feature', 'q2', 'Sphere radius (Å)', x_axis_vals_list, feature_groups_list, legend_labels_list, distinct_markers_list, 'line_chart_wH2O_q2_AllDataset', f'{fd}/line_chart_wH2O_q2_AllDataset.png', font_size = font_size)\n",
    "plot_metrics_line_chart(dataset_file_path_input, 'Feature', 'MAE', 'Sphere radius (Å)', x_axis_vals_list, feature_groups_list, legend_labels_list, distinct_markers_list, 'line_chart_wH2O_MAE_AllDataset', f'{fd}/line_chart_wH2O_MAE_AllDataset.png', font_size = font_size)"
   ]
  },
  {
   "cell_type": "code",
   "execution_count": null,
   "metadata": {},
   "outputs": [],
   "source": [
    "dataset_file_path_input = f'{fd}/results_LR_LOOCV_wH2O_q2_SecondaryDataset/results_LR_LOOCV_wH2O_q2_SecondaryDataset_All_Features.csv'\n",
    "plot_metrics_line_chart(dataset_file_path_input, 'Feature', 'q2', 'Sphere radius (Å)', x_axis_vals_list, feature_groups_list, legend_labels_list, distinct_markers_list, 'line_chart_wH2O_q2_SecondaryDataset', f'{fd}/line_chart_wH2O_q2_SecondaryDataset.png', font_size = font_size)\n",
    "plot_metrics_line_chart(dataset_file_path_input, 'Feature', 'MAE', 'Sphere radius (Å)', x_axis_vals_list, feature_groups_list, legend_labels_list, distinct_markers_list, 'line_chart_wH2O_MAE_SecondaryDataset', f'{fd}/line_chart_wH2O_MAE_SecondaryDataset.png', font_size = font_size)"
   ]
  }
 ],
 "metadata": {
  "language_info": {
   "name": "python"
  }
 },
 "nbformat": 4,
 "nbformat_minor": 2
}
