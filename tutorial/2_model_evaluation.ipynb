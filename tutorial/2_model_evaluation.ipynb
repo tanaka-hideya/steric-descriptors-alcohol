{
 "cells": [
  {
   "cell_type": "markdown",
   "metadata": {},
   "source": [
    "# Tutorial: Evaluating Model Using Steric Descriptors"
   ]
  },
  {
   "cell_type": "markdown",
   "metadata": {},
   "source": [
    "Author: Hideya Tanaka\n",
    "\n",
    "Reviewer: Tomoyuki Miyao\n",
    "\n",
    "---"
   ]
  },
  {
   "cell_type": "markdown",
   "metadata": {},
   "source": [
    "This tutorial demonstrates the evaluation of the model constructed using the steric descriptors generated in `Tutorial 1`, employing the following module:\n",
    "\n",
    "- **univariate_linear_regression_loocv.py**\n",
    "\n",
    "### Table of Contents\n",
    "\n",
    "1. **Analysis of the Dataset Containing Primary and Secondary Alcohols**\n",
    "2. **Analysis of the Dataset Containing Only Secondary Alcohols**\n",
    "\n",
    "---"
   ]
  },
  {
   "cell_type": "markdown",
   "metadata": {},
   "source": [
    "## 1. Analysis of the Dataset Containing Primary and Secondary Alcohols\n",
    "\n",
    "We used the final CSV file obtained in `Tutorial 1`, `steric-descriptors-alcohol/data/output_data/morfeus_qo_centerC_zaxisO_xzplaneH(C).csv`, as the dataset for the present analysis. Using this dataset and the module, we constructed univariate linear regression models and evaluated the performance of each steric descriptor for the target reaction based on three evaluation metrics: q², MAE, and RMSE. The target variables are the conversion values after 10 minutes under conditions without water addition (`conv_woH2O_10min`) and with water addition (`conv_wH2O_10min`) in the oxidation reactions of alcohols. By using the `run_univariate_linear_regression_loocv_evaluation` function from the module `univariate_linear_regression_loocv.py`, all metric values (q², MAE, RMSE) are saved in a CSV file. However, only the metric specified in the `eval_metric` argument is used to generate PNG images. Therefore, by specifying each of q², MAE, and RMSE sequentially in `eval_metric`, PNG images corresponding to each evaluation metric can be obtained. In addition, by specifying groups in the `search_keywords_list` argument, the best-performing descriptor within each group can be identified, and corresponding PNG images are generated for each group.  \n",
    "For usage details, please refer to the module."
   ]
  },
  {
   "cell_type": "markdown",
   "metadata": {},
   "source": [
    "1. **Target Variable: Conversion without Water (AllDataset)**"
   ]
  },
  {
   "cell_type": "code",
   "execution_count": null,
   "metadata": {},
   "outputs": [],
   "source": [
    "import os\n",
    "import sys\n",
    "\n",
    "fd = os.getcwd()\n",
    "parent_dir = os.path.dirname(fd)\n",
    "sys.path.append(parent_dir)\n",
    "\n",
    "from src.univariate_linear_regression_loocv import run_univariate_linear_regression_loocv_evaluation\n",
    "\n",
    "dataset_file_path_input = f'{parent_dir}/data/output_data/morfeus_qo_centerC_zaxisO_xzplaneH(C).csv'\n",
    "target_column = 'conv_woH2O_10min'\n",
    "exclude_columns = [target_column, 'smiles', 'confid', 'total_energy_xTB', 'Zero_point_correction', 'Thermal_correction_to_Energy',\n",
    "                    'Thermal_correction_to_Enthalpy', 'Thermal_correction_to_Gibbs_Free_Energy',\n",
    "                    'Sum_of_electronic_and_zero_point_Energies', 'Sum_of_electronic_and_thermal_Energies',\n",
    "                    'Sum_of_electronic_and_thermal_Enthalpies', 'Sum_of_electronic_and_thermal_Free_Energies',\n",
    "                    'HOMO', 'LUMO', 'filepath', 'HOMO_eV', 'LUMO_eV', 'chemical_potential_eV', 'chemical_hardness_eV',\n",
    "                    'GEI_eV', 'conv_wH2O_10min']\n",
    "n_jobs = -1\n",
    "max_features_per_plot = 53\n",
    "fig_width = 9"
   ]
  },
  {
   "cell_type": "code",
   "execution_count": null,
   "metadata": {},
   "outputs": [],
   "source": [
    "keyword = 'results_LR_LOOCV_woH2O_q2_AllDataset'\n",
    "eval_metric = 'q2'\n",
    "sort_flag = False\n",
    "search_keywords_list = []\n",
    "\n",
    "run_univariate_linear_regression_loocv_evaluation(fd, dataset_file_path_input, keyword, target_column, exclude_columns, eval_metric, sort_flag, n_jobs, max_features_per_plot, fig_width, search_keywords_list)\n",
    "print('Finish')"
   ]
  },
  {
   "cell_type": "code",
   "execution_count": null,
   "metadata": {},
   "outputs": [],
   "source": [
    "keyword = 'LinearRegression_LOOCV_woH2O_q2_AllDataset'\n",
    "eval_metric = 'q2'\n",
    "sort_flag = True\n",
    "search_keywords_list = ['center_C', 'center_O', 'center_H(O)', 'center_H(C)', 'quadrant', 'octant']\n",
    "\n",
    "run_univariate_linear_regression_loocv_evaluation(fd, dataset_file_path_input, keyword, target_column, exclude_columns, eval_metric, sort_flag, n_jobs, max_features_per_plot, fig_width, search_keywords_list)\n",
    "print('Finish')"
   ]
  },
  {
   "cell_type": "code",
   "execution_count": null,
   "metadata": {},
   "outputs": [],
   "source": [
    "keyword = 'LinearRegression_LOOCV_woH2O_MAE_AllDataset'\n",
    "eval_metric = 'MAE'\n",
    "sort_flag = True\n",
    "search_keywords_list = ['center_C', 'center_O', 'center_H(O)', 'center_H(C)', 'quadrant', 'octant']\n",
    "\n",
    "run_univariate_linear_regression_loocv_evaluation(fd, dataset_file_path_input, keyword, target_column, exclude_columns, eval_metric, sort_flag, n_jobs, max_features_per_plot, fig_width, search_keywords_list)\n",
    "print('Finish')"
   ]
  },
  {
   "cell_type": "markdown",
   "metadata": {},
   "source": [
    "2. **Target Variable: Conversion with Water (AllDataset)**"
   ]
  },
  {
   "cell_type": "code",
   "execution_count": null,
   "metadata": {},
   "outputs": [],
   "source": [
    "target_column = 'conv_wH2O_10min'\n",
    "exclude_columns = [target_column, 'smiles', 'confid', 'total_energy_xTB', 'Zero_point_correction', 'Thermal_correction_to_Energy',\n",
    "                    'Thermal_correction_to_Enthalpy', 'Thermal_correction_to_Gibbs_Free_Energy',\n",
    "                    'Sum_of_electronic_and_zero_point_Energies', 'Sum_of_electronic_and_thermal_Energies',\n",
    "                    'Sum_of_electronic_and_thermal_Enthalpies', 'Sum_of_electronic_and_thermal_Free_Energies',\n",
    "                    'HOMO', 'LUMO', 'filepath', 'HOMO_eV', 'LUMO_eV', 'chemical_potential_eV', 'chemical_hardness_eV',\n",
    "                    'GEI_eV', 'conv_woH2O_10min']"
   ]
  },
  {
   "cell_type": "code",
   "execution_count": null,
   "metadata": {},
   "outputs": [],
   "source": [
    "keyword = 'results_LR_LOOCV_wH2O_q2_AllDataset'\n",
    "eval_metric = 'q2'\n",
    "sort_flag = False\n",
    "search_keywords_list = []\n",
    "\n",
    "run_univariate_linear_regression_loocv_evaluation(fd, dataset_file_path_input, keyword, target_column, exclude_columns, eval_metric, sort_flag, n_jobs, max_features_per_plot, fig_width, search_keywords_list)\n",
    "print('Finish')"
   ]
  },
  {
   "cell_type": "code",
   "execution_count": null,
   "metadata": {},
   "outputs": [],
   "source": [
    "keyword = 'LinearRegression_LOOCV_wH2O_q2_AllDataset'\n",
    "eval_metric = 'q2'\n",
    "sort_flag = True\n",
    "search_keywords_list = ['center_C', 'center_O', 'center_H(O)', 'center_H(C)', 'quadrant', 'octant']\n",
    "\n",
    "run_univariate_linear_regression_loocv_evaluation(fd, dataset_file_path_input, keyword, target_column, exclude_columns, eval_metric, sort_flag, n_jobs, max_features_per_plot, fig_width, search_keywords_list)\n",
    "print('Finish')"
   ]
  },
  {
   "cell_type": "code",
   "execution_count": null,
   "metadata": {},
   "outputs": [],
   "source": [
    "keyword = 'LinearRegression_LOOCV_wH2O_MAE_AllDataset'\n",
    "eval_metric = 'MAE'\n",
    "sort_flag = True\n",
    "search_keywords_list = ['center_C', 'center_O', 'center_H(O)', 'center_H(C)', 'quadrant', 'octant']\n",
    "\n",
    "run_univariate_linear_regression_loocv_evaluation(fd, dataset_file_path_input, keyword, target_column, exclude_columns, eval_metric, sort_flag, n_jobs, max_features_per_plot, fig_width, search_keywords_list)\n",
    "print('Finish')"
   ]
  },
  {
   "cell_type": "markdown",
   "metadata": {},
   "source": [
    "## 2. Analysis of the Dataset Containing Only Secondary Alcohols\n",
    "\n",
    "Secondary alcohols generally undergo oxidation more slowly than primary alcohols due to greater steric hindrance. Therefore, we conducted a similar analysis using the dataset consisting exclusively of secondary alcohols, in which the effect of steric hindrance on reaction rate is more pronounced,\n",
    "to investigate the performance of the descriptors in greater detail."
   ]
  },
  {
   "cell_type": "code",
   "execution_count": null,
   "metadata": {},
   "outputs": [],
   "source": [
    "import pandas as pd\n",
    "df = pd.read_csv(f'{parent_dir}/data/output_data/morfeus_qo_centerC_zaxisO_xzplaneH(C).csv', index_col=0)\n",
    "filtered_df = df.drop([0, 1, 2, 9])\n",
    "\n",
    "print(f'df.shape: {df.shape}')\n",
    "print(f'filtered_df.shape: {filtered_df.shape}')\n",
    "\n",
    "filtered_df.to_csv(f'{fd}/morfeus_qo_centerC_zaxisO_xzplaneH(C)_SecondaryDataset.csv')\n",
    "\n",
    "dataset_file_path_input = f'{fd}/morfeus_qo_centerC_zaxisO_xzplaneH(C)_SecondaryDataset.csv'"
   ]
  },
  {
   "cell_type": "markdown",
   "metadata": {},
   "source": [
    "1. **Target Variable: Conversion without Water (SecondaryDataset)**"
   ]
  },
  {
   "cell_type": "code",
   "execution_count": null,
   "metadata": {},
   "outputs": [],
   "source": [
    "target_column = 'conv_woH2O_10min'\n",
    "exclude_columns = [target_column, 'smiles', 'confid', 'total_energy_xTB', 'Zero_point_correction', 'Thermal_correction_to_Energy',\n",
    "                    'Thermal_correction_to_Enthalpy', 'Thermal_correction_to_Gibbs_Free_Energy',\n",
    "                    'Sum_of_electronic_and_zero_point_Energies', 'Sum_of_electronic_and_thermal_Energies',\n",
    "                    'Sum_of_electronic_and_thermal_Enthalpies', 'Sum_of_electronic_and_thermal_Free_Energies',\n",
    "                    'HOMO', 'LUMO', 'filepath', 'HOMO_eV', 'LUMO_eV', 'chemical_potential_eV', 'chemical_hardness_eV',\n",
    "                    'GEI_eV', 'conv_wH2O_10min']"
   ]
  },
  {
   "cell_type": "code",
   "execution_count": null,
   "metadata": {},
   "outputs": [],
   "source": [
    "keyword = 'results_LR_LOOCV_woH2O_q2_SecondaryDataset'\n",
    "eval_metric = 'q2'\n",
    "sort_flag = False\n",
    "search_keywords_list = []\n",
    "\n",
    "run_univariate_linear_regression_loocv_evaluation(fd, dataset_file_path_input, keyword, target_column, exclude_columns, eval_metric, sort_flag, n_jobs, max_features_per_plot, fig_width, search_keywords_list)\n",
    "print('Finish')"
   ]
  },
  {
   "cell_type": "code",
   "execution_count": null,
   "metadata": {},
   "outputs": [],
   "source": [
    "keyword = 'LinearRegression_LOOCV_woH2O_q2_SecondaryDataset'\n",
    "eval_metric = 'q2'\n",
    "sort_flag = True\n",
    "search_keywords_list = ['center_C', 'center_O', 'center_H(O)', 'center_H(C)', 'quadrant', 'octant']\n",
    "\n",
    "run_univariate_linear_regression_loocv_evaluation(fd, dataset_file_path_input, keyword, target_column, exclude_columns, eval_metric, sort_flag, n_jobs, max_features_per_plot, fig_width, search_keywords_list)\n",
    "print('Finish')"
   ]
  },
  {
   "cell_type": "code",
   "execution_count": null,
   "metadata": {},
   "outputs": [],
   "source": [
    "keyword = 'LinearRegression_LOOCV_woH2O_MAE_SecondaryDataset'\n",
    "eval_metric = 'MAE'\n",
    "sort_flag = True\n",
    "search_keywords_list = ['center_C', 'center_O', 'center_H(O)', 'center_H(C)', 'quadrant', 'octant']\n",
    "\n",
    "run_univariate_linear_regression_loocv_evaluation(fd, dataset_file_path_input, keyword, target_column, exclude_columns, eval_metric, sort_flag, n_jobs, max_features_per_plot, fig_width, search_keywords_list)\n",
    "print('Finish')"
   ]
  },
  {
   "cell_type": "markdown",
   "metadata": {},
   "source": [
    "2. **Target Variable: Conversion with Water (SecondaryDataset)**"
   ]
  },
  {
   "cell_type": "code",
   "execution_count": null,
   "metadata": {},
   "outputs": [],
   "source": [
    "target_column = 'conv_wH2O_10min'\n",
    "exclude_columns = [target_column, 'smiles', 'confid', 'total_energy_xTB', 'Zero_point_correction', 'Thermal_correction_to_Energy',\n",
    "                    'Thermal_correction_to_Enthalpy', 'Thermal_correction_to_Gibbs_Free_Energy',\n",
    "                    'Sum_of_electronic_and_zero_point_Energies', 'Sum_of_electronic_and_thermal_Energies',\n",
    "                    'Sum_of_electronic_and_thermal_Enthalpies', 'Sum_of_electronic_and_thermal_Free_Energies',\n",
    "                    'HOMO', 'LUMO', 'filepath', 'HOMO_eV', 'LUMO_eV', 'chemical_potential_eV', 'chemical_hardness_eV',\n",
    "                    'GEI_eV', 'conv_woH2O_10min']"
   ]
  },
  {
   "cell_type": "code",
   "execution_count": null,
   "metadata": {},
   "outputs": [],
   "source": [
    "keyword = 'results_LR_LOOCV_wH2O_q2_SecondaryDataset'\n",
    "eval_metric = 'q2'\n",
    "sort_flag = False\n",
    "search_keywords_list = []\n",
    "\n",
    "run_univariate_linear_regression_loocv_evaluation(fd, dataset_file_path_input, keyword, target_column, exclude_columns, eval_metric, sort_flag, n_jobs, max_features_per_plot, fig_width, search_keywords_list)\n",
    "print('Finish')"
   ]
  },
  {
   "cell_type": "code",
   "execution_count": null,
   "metadata": {},
   "outputs": [],
   "source": [
    "keyword = 'LinearRegression_LOOCV_wH2O_q2_SecondaryDataset'\n",
    "eval_metric = 'q2'\n",
    "sort_flag = True\n",
    "search_keywords_list = ['center_C', 'center_O', 'center_H(O)', 'center_H(C)', 'quadrant', 'octant']\n",
    "\n",
    "run_univariate_linear_regression_loocv_evaluation(fd, dataset_file_path_input, keyword, target_column, exclude_columns, eval_metric, sort_flag, n_jobs, max_features_per_plot, fig_width, search_keywords_list)\n",
    "print('Finish')"
   ]
  },
  {
   "cell_type": "code",
   "execution_count": null,
   "metadata": {},
   "outputs": [],
   "source": [
    "keyword = 'LinearRegression_LOOCV_wH2O_MAE_SecondaryDataset'\n",
    "eval_metric = 'MAE'\n",
    "sort_flag = True\n",
    "search_keywords_list = ['center_C', 'center_O', 'center_H(O)', 'center_H(C)', 'quadrant', 'octant']\n",
    "\n",
    "run_univariate_linear_regression_loocv_evaluation(fd, dataset_file_path_input, keyword, target_column, exclude_columns, eval_metric, sort_flag, n_jobs, max_features_per_plot, fig_width, search_keywords_list)\n",
    "print('Finish')"
   ]
  }
 ],
 "metadata": {
  "language_info": {
   "name": "python"
  }
 },
 "nbformat": 4,
 "nbformat_minor": 2
}
